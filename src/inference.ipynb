{
  "cells": [
    {
      "cell_type": "markdown",
      "metadata": {
        "id": "cCQHFSo_C6ue"
      },
      "source": [
        "## Aircraft Detection - Inference"
      ]
    },
    {
      "cell_type": "code",
      "execution_count": null,
      "metadata": {
        "id": "29TJXG5NC6ug"
      },
      "outputs": [],
      "source": [
        "import torch\n",
        "from bbox_utils import *\n",
        "import torch\n",
        "from torch import nn\n",
        "import torch.optim as optimizer\n",
        "import torch.nn.functional as f\n",
        "from pathlib import Path\n",
        "import os\n",
        "import bbox_utils\n",
        "import torch.nn as nn\n",
        "import torch.nn.functional as F\n",
        "from torch.nn import Conv2d, Dropout, MaxPool2d, BatchNorm1d, BatchNorm2d\n",
        "import pandas as pd\n",
        "import json\n",
        "import visualization\n",
        "import model"
      ]
    },
    {
      "cell_type": "code",
      "execution_count": null,
      "metadata": {},
      "outputs": [],
      "source": [
        "new_size = 128\n",
        "ratio = int(512/new_size)\n",
        "\n",
        "def resize_bbox_rowwise(row):\n",
        "    return np.array(bbox_utils.transformsBbox(row['bbox'], ratio), dtype='float64')\n",
        "\n",
        "def resize_im_rowwise(row):\n",
        "    return bbox_utils.transformsImg(row['path'], new_size)"
      ]
    },
    {
      "cell_type": "code",
      "execution_count": null,
      "metadata": {},
      "outputs": [],
      "source": [
        "#Loading the model\n",
        "\n",
        "dir_root = os.path.abspath('')\n",
        "model_dir = Path(dir_root, '../data/model/2022-12-08 11_02_25/model/epoch_119.pth') # replace here the name of the model you want to use"
      ]
    },
    {
      "cell_type": "code",
      "execution_count": null,
      "metadata": {},
      "outputs": [],
      "source": [
        "train_imgs = Path(dir_root, '../data/train')\n",
        "test_imgs = Path(dir_root, '../data/test')\n",
        "annot_dir = Path(dir_root, '../data/annot/rareplanes.json')"
      ]
    },
    {
      "cell_type": "code",
      "execution_count": null,
      "metadata": {},
      "outputs": [],
      "source": [
        "with open(annot_dir) as json_data:\n",
        "    data = json.load(json_data)\n",
        "\n",
        "annot_train = pd.DataFrame(data['categories'])\n",
        "annot_train.drop(['loc_id', 'cat_id', 'location', 'role', 'role_id', 'is_plane', 'num_engines', 'propulsion', 'canards', 'num_tail_fins', 'wing_position', 'wing_type',\n",
        "                'length', 'wingspan', 'area', 'faa_wingspan_class', 'Public_Train', 'Public_Test', 'partialDec', 'truncated', 'new_area', 'area_pixels', 'id'], axis=1, inplace=True)\n",
        "annot_train.rename(columns={\"image_fname\": \"name\"}, inplace=True)\n",
        "\n",
        "annot_train = annot_train.groupby(['image_id']).agg(\n",
        "    tuple).applymap(np.array).reset_index()\n",
        "\n",
        "annot_train.drop(annot_train.index.to_list()[100:], axis=0, inplace=True)\n",
        "\n",
        "annot_train['path'] = annot_train.apply(\n",
        "    lambda row: str(train_imgs) + \"/\"+row['name'][0], axis=1)\n",
        "annot_train.drop(['name', 'image_id'], axis=1, inplace=True)"
      ]
    },
    {
      "cell_type": "code",
      "execution_count": null,
      "metadata": {},
      "outputs": [],
      "source": [
        "annot_train['image'] = annot_train.apply(resize_im_rowwise, axis=1)\n",
        "annot_train['bbox'] = annot_train.apply(resize_bbox_rowwise, axis=1)\n",
        "annot_train.head()"
      ]
    },
    {
      "cell_type": "code",
      "execution_count": null,
      "metadata": {},
      "outputs": [],
      "source": [
        "plt.figure()\n",
        "plt.imshow(annot_train['image'][78])\n",
        "plt.show()"
      ]
    },
    {
      "cell_type": "code",
      "execution_count": null,
      "metadata": {},
      "outputs": [],
      "source": [
        "DEBUG_LAYERS = False\n",
        "\n",
        "aircraft_model = model.AircraftModel().double()\n",
        "loaded_model = torch.load(model_dir, map_location = torch.device('cpu'))\n",
        "\n",
        "if DEBUG_LAYERS:\n",
        "    print('------------ MODEL FORMAT -------------')\n",
        "    for layer_name, tensor in aircraft_model.named_parameters():\n",
        "        print(layer_name, tensor.size())\n",
        "    print('----------- LOADED MODEL --------------')\n",
        "    for layer_name, tensor in loaded_model.named_parameters():\n",
        "        print(layer_name, tensor.size())\n",
        "\n",
        "\n",
        "#model.load_state_dict(loaded_model.state_dict())\n",
        "aircraft_model.load_state_dict(loaded_model)\n",
        "aircraft_model.eval()"
      ]
    },
    {
      "cell_type": "code",
      "execution_count": null,
      "metadata": {},
      "outputs": [],
      "source": [
        "import training_utilities\n",
        "import random\n",
        "\n",
        "# import importlib\n",
        "# importlib.reload(training_utilities)\n",
        "\n",
        "for i in random.sample(range(0, len(annot_train['image'])), 10):\n",
        "\n",
        "    image_index = i\n",
        "    # Confidence equal to, or higher gets shown\n",
        "    THRESHHOLD = 0.5\n",
        "\n",
        "    inputs = torch.from_numpy(np.array([annot_train['image'][image_index]]))\n",
        "    inputs = torch.permute(inputs, (0, 3, 1, 2))\n",
        "\n",
        "    output = aircraft_model(inputs)\n",
        "    targets = training_utilities.calculate_iou(annot_train['bbox'][image_index])\n",
        "    loss = training_utilities.loss_fn(output, torch.from_numpy(np.array([targets])))\n",
        "\n",
        "    print('Loss', loss.item())\n",
        "    plane_count = (output.detach().numpy() >= THRESHHOLD).sum()\n",
        "\n",
        "    # print(\"Output: \",output)\n",
        "    print('expected planes: ', targets.sum())\n",
        "    print(\"Planes found: \", plane_count) #when the model outputs proper 1's and 0'2 this should make more sense\n",
        "\n",
        "    visualization.display_bbox_target_vector(annot_train['image'][image_index], output[0], model.np_bboxs, THRESHHOLD)"
      ]
    }
  ],
  "metadata": {
    "accelerator": "GPU",
    "colab": {
      "collapsed_sections": [],
      "machine_shape": "hm",
      "provenance": []
    },
    "gpuClass": "premium",
    "kernelspec": {
      "display_name": "Python 3.9.11 64-bit",
      "language": "python",
      "name": "python3"
    },
    "language_info": {
      "codemirror_mode": {
        "name": "ipython",
        "version": 3
      },
      "file_extension": ".py",
      "mimetype": "text/x-python",
      "name": "python",
      "nbconvert_exporter": "python",
      "pygments_lexer": "ipython3",
      "version": "3.9.11"
    },
    "orig_nbformat": 4,
    "vscode": {
      "interpreter": {
        "hash": "546b5f6b2389935745aeafe100680c67e2ddd1e4f18bdf97eb6ec088951cd948"
      }
    }
  },
  "nbformat": 4,
  "nbformat_minor": 0
}
